{
 "cells": [
  {
   "cell_type": "code",
   "execution_count": 1,
   "id": "fd0d8916",
   "metadata": {},
   "outputs": [],
   "source": [
    "\n",
    "import findspark\n",
    "\n",
    "\n",
    "findspark.init()\n"
   ]
  },
  {
   "cell_type": "code",
   "execution_count": 1,
   "id": "eb535087",
   "metadata": {},
   "outputs": [],
   "source": [
    "from dotenv import load_dotenv\n",
    "import os"
   ]
  },
  {
   "cell_type": "code",
   "execution_count": 2,
   "id": "e616f786",
   "metadata": {},
   "outputs": [
    {
     "name": "stdout",
     "output_type": "stream",
     "text": [
      "/usr/lib/jvm/java-8-openjdk\n",
      "/home/hadoop/spark-3.5.5-bin-hadoop3\n"
     ]
    }
   ],
   "source": [
    "import os\n",
    "print(os.environ.get('JAVA_HOME'))\n",
    "print(os.environ.get('SPARK_HOME'))\n"
   ]
  },
  {
   "cell_type": "code",
   "execution_count": 1,
   "id": "6d876131",
   "metadata": {},
   "outputs": [
    {
     "name": "stderr",
     "output_type": "stream",
     "text": [
      "25/06/01 21:52:17 WARN NativeCodeLoader: Unable to load native-hadoop library for your platform... using builtin-java classes where applicable\n",
      "Setting default log level to \"WARN\".\n",
      "To adjust logging level use sc.setLogLevel(newLevel). For SparkR, use setLogLevel(newLevel).\n"
     ]
    }
   ],
   "source": [
    "import pyspark\n",
    "from pyspark.sql import SparkSession\n",
    "\n",
    "spark = SparkSession.builder \\\n",
    "    .appName(\"Read from PostgreSQL\") \\\n",
    "    .config(\"spark.jars\", \"./jars/postgresql-42.6.0.jar\") \\\n",
    "    .config(\"spark.driver.memory\", \"4g\") \\\n",
    "    .config(\"spark.executor.memory\", \"4g\") \\\n",
    "    .config(\"spark.executor.memoryOverhead\", \"2g\") \\\n",
    "    .getOrCreate()\n"
   ]
  },
  {
   "cell_type": "code",
   "execution_count": 2,
   "id": "7fc0fedf",
   "metadata": {},
   "outputs": [],
   "source": [
    "jdbc_url = \"jdbc:postgresql://localhost:5432/sales_analytics\"\n",
    "\n",
    "table_name = \"salesfact\"\n",
    "properties = {\n",
    "    \"user\": \"your_user\",\n",
    "    \"password\": \"your_password\", \n",
    "    \"driver\": \"org.postgresql.Driver\"\n",
    "}\n"
   ]
  },
  {
   "cell_type": "code",
   "execution_count": 3,
   "metadata": {},
   "outputs": [
    {
     "name": "stderr",
     "output_type": "stream",
     "text": [
      "                                                                                \r"
     ]
    },
    {
     "name": "stdout",
     "output_type": "stream",
     "text": [
      "+---------+----------+-----+-----+----------+----------+\n",
      "|productid|      date|  zip|units|   revenue|      cogs|\n",
      "+---------+----------+-----+-----+----------+----------+\n",
      "|     1003|2010-09-23|91711|    1|$1.038,87 |$1.120,32 |\n",
      "|     1003|2011-07-24|94614|    1|$1.038,87 |$1.120,32 |\n",
      "|     1003|2012-06-24|83843|    1|$1.038,87 |$1.120,32 |\n",
      "|     1003|2011-06-01|36784|    1|$1.038,87 |$1.120,32 |\n",
      "|     1014|2010-07-11|46360|    1|$1.038,87 |  $951,40 |\n",
      "|     1014|2011-06-25|21723|    1|$1.038,87 |  $951,40 |\n",
      "|     1014|2010-11-27|46815|    1|$1.038,87 |  $951,40 |\n",
      "|     1014|2010-07-21|46058|    1|$1.038,87 |  $951,40 |\n",
      "|     1014|2010-08-30|28081|    1|$1.038,87 |  $951,40 |\n",
      "|     1014|2010-07-10|24112|    1|$1.038,87 |  $951,40 |\n",
      "|     1014|2010-07-21|47630|    1|$1.038,87 |  $951,40 |\n",
      "|     1014|2012-04-18|46360|    1|$1.038,87 |  $951,40 |\n",
      "|     1014|2010-07-07|44406|    1|$1.038,87 |  $951,40 |\n",
      "|     1014|2010-07-26|11967|    1|$1.038,87 |  $951,40 |\n",
      "|     1014|2010-12-30|49779|    1|$1.038,87 |  $951,40 |\n",
      "|     1014|2010-07-21|55105|    1|$1.038,87 |  $951,40 |\n",
      "|     1014|2010-12-30|46060|    1|$1.038,87 |  $951,40 |\n",
      "|     1014|2021-12-05|93555|    1|$1.038,87 |  $951,40 |\n",
      "|     1014|2010-08-09|49444|    1|$1.038,87 |  $951,40 |\n",
      "|     1014|2011-03-27|98604|    1|$1.038,87 |  $951,40 |\n",
      "+---------+----------+-----+-----+----------+----------+\n",
      "only showing top 20 rows\n",
      "\n"
     ]
    }
   ],
   "source": [
    "try:\n",
    "    df = spark.read.jdbc(url=jdbc_url, table=table_name, properties=properties)\n",
    "    df.show()\n",
    "except Exception as e:\n",
    "    print(f\"Error: {e}\")"
   ]
  },
  {
   "cell_type": "code",
   "execution_count": 4,
   "id": "7bc0d28f",
   "metadata": {},
   "outputs": [
    {
     "name": "stdout",
     "output_type": "stream",
     "text": [
      "root\n",
      " |-- productid: string (nullable = true)\n",
      " |-- date: date (nullable = true)\n",
      " |-- zip: string (nullable = true)\n",
      " |-- units: integer (nullable = true)\n",
      " |-- revenue: string (nullable = true)\n",
      " |-- cogs: string (nullable = true)\n",
      "\n"
     ]
    }
   ],
   "source": [
    "df.printSchema()"
   ]
  },
  {
   "cell_type": "code",
   "execution_count": 5,
   "id": "9ff2e4e5",
   "metadata": {},
   "outputs": [
    {
     "name": "stderr",
     "output_type": "stream",
     "text": [
      "25/06/01 21:52:44 WARN SparkStringUtils: Truncated the string representation of a plan since it was too large. This behavior can be adjusted by setting 'spark.sql.debug.maxToStringFields'.\n",
      "[Stage 1:>                                                          (0 + 1) / 1]\r"
     ]
    },
    {
     "name": "stdout",
     "output_type": "stream",
     "text": [
      "+-------+------------------+-----------------+------------------+-----------+--------+\n",
      "|summary|         productid|              zip|             units|    revenue|    cogs|\n",
      "+-------+------------------+-----------------+------------------+-----------+--------+\n",
      "|  count|            976243|           976243|            976243|     976202|  976243|\n",
      "|   mean|1223.3887884471387|55683.27790314502|1.0299792162402188|       NULL|    NULL|\n",
      "| stddev| 693.3112657737689|  28954.450426042|0.3266693786559363|       NULL|    NULL|\n",
      "|    min|                 1|            10001|                 1| $1.006,74 |  $0,00 |\n",
      "|    max|               999|            99950|                44|$98.510,58 |$996,85 |\n",
      "+-------+------------------+-----------------+------------------+-----------+--------+\n",
      "\n"
     ]
    },
    {
     "name": "stderr",
     "output_type": "stream",
     "text": [
      "                                                                                \r"
     ]
    }
   ],
   "source": [
    "df.describe().show()"
   ]
  },
  {
   "cell_type": "markdown",
   "id": "9c0f04f0",
   "metadata": {},
   "source": [
    "**Convert revenue and cogs into correct dtype**"
   ]
  },
  {
   "cell_type": "code",
   "execution_count": 6,
   "id": "784153f7",
   "metadata": {},
   "outputs": [
    {
     "name": "stdout",
     "output_type": "stream",
     "text": [
      "root\n",
      " |-- productid: string (nullable = true)\n",
      " |-- date: date (nullable = true)\n",
      " |-- zip: string (nullable = true)\n",
      " |-- units: integer (nullable = true)\n",
      " |-- revenue: double (nullable = true)\n",
      " |-- cogs: double (nullable = true)\n",
      "\n"
     ]
    }
   ],
   "source": [
    "from pyspark.sql.functions import regexp_replace, col\n",
    "df = df.withColumn(\"revenue\", regexp_replace(\"revenue\", r\"[\\$.]\", \"\")) \\\n",
    "               .withColumn(\"revenue\", regexp_replace(\"revenue\", \",\", \".\")) \\\n",
    "               .withColumn(\"revenue\", col(\"revenue\").cast(\"double\")) \\\n",
    "               .withColumn(\"cogs\", regexp_replace(\"cogs\", r\"[\\$.]\", \"\")) \\\n",
    "               .withColumn(\"cogs\", regexp_replace(\"cogs\", \",\", \".\")) \\\n",
    "               .withColumn(\"cogs\", col(\"cogs\").cast(\"double\"))\n",
    "df.printSchema()"
   ]
  },
  {
   "cell_type": "markdown",
   "id": "8ff93bd7",
   "metadata": {},
   "source": [
    "**Checking for duplicates**"
   ]
  },
  {
   "cell_type": "code",
   "execution_count": 7,
   "id": "9a93a48e",
   "metadata": {},
   "outputs": [
    {
     "name": "stderr",
     "output_type": "stream",
     "text": [
      "[Stage 9:===>                                                     (1 + 15) / 16]\r"
     ]
    },
    {
     "name": "stdout",
     "output_type": "stream",
     "text": [
      "38\n"
     ]
    },
    {
     "name": "stderr",
     "output_type": "stream",
     "text": [
      "                                                                                \r"
     ]
    }
   ],
   "source": [
    "total_count = df.count()\n",
    "distinct_count = df.distinct().count()\n",
    "if total_count != distinct_count:\n",
    "    print(total_count - distinct_count)\n",
    "else:\n",
    "    print(\"The are no duplicates\")"
   ]
  },
  {
   "cell_type": "code",
   "execution_count": 8,
   "id": "32d24b2d",
   "metadata": {},
   "outputs": [
    {
     "name": "stderr",
     "output_type": "stream",
     "text": [
      "[Stage 13:>                                                         (0 + 1) / 1]\r"
     ]
    },
    {
     "name": "stdout",
     "output_type": "stream",
     "text": [
      "+---------+----------+-----+-----+-------+-------+\n",
      "|productid|      date|  zip|units|revenue|   cogs|\n",
      "+---------+----------+-----+-----+-------+-------+\n",
      "|     1722|2019-03-03|21874|    1|1038.87| 532.94|\n",
      "|      582|2022-03-22|76210|    1|4283.37|3193.25|\n",
      "|     1397|2018-11-14|94551|    1|4283.37|4385.31|\n",
      "|     2071|2011-06-17|32407|    1|4283.37|2756.78|\n",
      "|     2071|2011-07-01|98684|    1|4283.37|2756.78|\n",
      "|      993|2017-01-30|48455|    1|4283.37|3750.52|\n",
      "|      993|2016-08-08|17601|    1|4283.37|3750.52|\n",
      "|     2354|2013-12-28|91387|    1|4283.37| 4626.9|\n",
      "|     2214|2014-05-11|48144|    1|4283.37|4667.59|\n",
      "|     2334|2015-10-13|78140|    1|4283.37|2657.83|\n",
      "|     2334|2015-05-23|97116|    1|4283.37|2657.83|\n",
      "|     2334|2014-04-28|31407|    1|4283.37|2657.83|\n",
      "|     2334|2014-09-18|75501|    1|4283.37|2657.83|\n",
      "|     1115|2014-02-20|16433|    1|4283.37|4449.99|\n",
      "|     1115|2015-09-11|98023|    1|4283.37|4449.99|\n",
      "|     1115|2014-02-15|53168|    1|4283.37|4449.99|\n",
      "|     1215|2011-04-03|98204|    1|4283.37|2734.08|\n",
      "|      939|2016-11-16|86001|    1|4283.37| 4415.3|\n",
      "|      939|2017-07-25|43943|    1|4283.37| 4415.3|\n",
      "|      939|2016-08-18|76513|    1|4283.37| 4415.3|\n",
      "+---------+----------+-----+-----+-------+-------+\n",
      "only showing top 20 rows\n",
      "\n"
     ]
    },
    {
     "name": "stderr",
     "output_type": "stream",
     "text": [
      "                                                                                \r"
     ]
    }
   ],
   "source": [
    "df = df.dropDuplicates()\n",
    "df.show()"
   ]
  },
  {
   "cell_type": "markdown",
   "id": "108944f0",
   "metadata": {},
   "source": [
    "**Find count for empty, None, Null, Nan with string literals.**"
   ]
  },
  {
   "cell_type": "code",
   "execution_count": 9,
   "id": "e79dcc95",
   "metadata": {},
   "outputs": [
    {
     "name": "stderr",
     "output_type": "stream",
     "text": [
      "[Stage 18:=================>                                      (5 + 11) / 16]\r"
     ]
    },
    {
     "name": "stdout",
     "output_type": "stream",
     "text": [
      "+---------+----+---+-----+-------+----+\n",
      "|productid|date|zip|units|revenue|cogs|\n",
      "+---------+----+---+-----+-------+----+\n",
      "|        0|   0|  0|    0|     41|   0|\n",
      "+---------+----+---+-----+-------+----+\n",
      "\n"
     ]
    },
    {
     "name": "stderr",
     "output_type": "stream",
     "text": [
      "                                                                                \r"
     ]
    }
   ],
   "source": [
    "from pyspark.sql.functions import col, isnan, when, count\n",
    "\n",
    "df.select([\n",
    "    count(\n",
    "        when(\n",
    "            (col(c).contains('None')) |\n",
    "            (col(c).contains('NULL')) |\n",
    "            (col(c) == '') |\n",
    "            (col(c).isNull()),\n",
    "            c\n",
    "        )\n",
    "    ).alias(c)\n",
    "    for c in df.columns\n",
    "]).show()\n"
   ]
  },
  {
   "cell_type": "markdown",
   "id": "8b90f40c",
   "metadata": {},
   "source": [
    "**Fill null values in Revenue with the closest date's value for the same product ID.**"
   ]
  },
  {
   "cell_type": "code",
   "execution_count": 10,
   "id": "c7eebabf",
   "metadata": {},
   "outputs": [],
   "source": [
    "from pyspark.sql import functions as F\n",
    "from pyspark.sql.functions import col, datediff, row_number, abs\n",
    "from pyspark.sql.window import Window"
   ]
  },
  {
   "cell_type": "code",
   "execution_count": 11,
   "id": "718211c8",
   "metadata": {},
   "outputs": [],
   "source": [
    "df_null = df.filter(F.col(\"revenue\").isNull())\n",
    "df_no_null = df.filter(F.col(\"revenue\").isNotNull())"
   ]
  },
  {
   "cell_type": "code",
   "execution_count": 12,
   "id": "fd5f35f0",
   "metadata": {},
   "outputs": [
    {
     "name": "stderr",
     "output_type": "stream",
     "text": [
      "[Stage 23:>                                                         (0 + 1) / 1]\r"
     ]
    },
    {
     "name": "stdout",
     "output_type": "stream",
     "text": [
      "+---------+----------+-----+-----+-------+----+---------+----------+-----+-----+-------+-------+\n",
      "|productid|      date|  zip|units|revenue|cogs|productid|      date|  zip|units|revenue|   cogs|\n",
      "+---------+----------+-----+-----+-------+----+---------+----------+-----+-----+-------+-------+\n",
      "|     2197|2022-07-01| 6379|    1|   NULL| 0.0|     2197|2021-09-10|64086|    1| 3269.7|3370.08|\n",
      "|     2197|2022-07-01| 6379|    1|   NULL| 0.0|     2197|2020-10-30|62284|    1| 3269.7|3370.08|\n",
      "|     2197|2022-07-01| 6379|    1|   NULL| 0.0|     2197|2022-05-10|99320|    1| 3269.7|3370.08|\n",
      "|     2197|2022-07-01| 6379|    1|   NULL| 0.0|     2197|2020-05-19|62264|    1| 3206.7|3305.15|\n",
      "|     2197|2022-07-01| 6379|    1|   NULL| 0.0|     2197|2020-03-18|98188|    1| 3206.7|3305.15|\n",
      "|     1176|2022-06-20|33056|    1|   NULL| 0.0|     1176|2021-11-29|91766|    1|8000.37|7529.95|\n",
      "|     1176|2022-06-20|33056|    1|   NULL| 0.0|     1176|2021-07-24|92223|    1|8000.37|7529.95|\n",
      "|     2197|2022-07-01| 6379|    1|   NULL| 0.0|     2197|2017-09-29|97838|    1|2865.87|2953.85|\n",
      "|     2197|2022-07-01| 6379|    1|   NULL| 0.0|     2197|2017-02-24|15906|    1|2865.87|2953.85|\n",
      "|     2197|2022-07-01| 6379|    1|   NULL| 0.0|     2197|2017-11-16|94558|    1|2865.87|2953.85|\n",
      "|     1542|2022-06-17|92086|    1|   NULL| 0.0|     1542|2017-12-14|37398|    1|5038.74|4446.69|\n",
      "|     2197|2022-07-01| 6379|    1|   NULL| 0.0|     2197|2016-03-21|37419|    1|2771.37|2856.45|\n",
      "|     2197|2022-07-01| 6379|    1|   NULL| 0.0|     2197|2016-06-30|73538|    1|2771.37|2856.45|\n",
      "|      719|2022-06-14|29063|    1|   NULL| 0.0|      719|2020-12-12|12771|    1|1259.37| 981.55|\n",
      "|      719|2022-06-14|29063|    1|   NULL| 0.0|      719|2020-12-20|75426|    1|1259.37| 981.55|\n",
      "|      719|2022-06-14|29063|    1|   NULL| 0.0|      719|2020-11-28|30350|    1|1259.37| 981.55|\n",
      "|     2197|2022-07-01| 6379|    1|   NULL| 0.0|     2197|2021-06-16|98908|    1| 3269.7|3370.08|\n",
      "|     2197|2022-07-01| 6379|    1|   NULL| 0.0|     2197|2020-11-26|92065|    1| 3269.7|3370.08|\n",
      "|     2197|2022-07-01| 6379|    1|   NULL| 0.0|     2197|2019-11-05|77356|    1| 3206.7|3305.15|\n",
      "|     1176|2022-06-20|33056|    1|   NULL| 0.0|     1176|2022-03-21|91302|    1|7370.37|6936.99|\n",
      "+---------+----------+-----+-----+-------+----+---------+----------+-----+-----+-------+-------+\n",
      "only showing top 20 rows\n",
      "\n"
     ]
    },
    {
     "name": "stderr",
     "output_type": "stream",
     "text": [
      "                                                                                \r"
     ]
    }
   ],
   "source": [
    "joined_df = df_null.alias(\"a\").join(\n",
    "    df_no_null.alias(\"b\"),\n",
    "    on=F.col(\"a.productid\") == F.col(\"b.productid\"),\n",
    "    how=\"inner\"\n",
    ")\n",
    "joined_df.show()"
   ]
  },
  {
   "cell_type": "code",
   "execution_count": 13,
   "id": "394ef69f",
   "metadata": {},
   "outputs": [
    {
     "name": "stderr",
     "output_type": "stream",
     "text": [
      "[Stage 29:>                                                         (0 + 1) / 1]\r"
     ]
    },
    {
     "name": "stdout",
     "output_type": "stream",
     "text": [
      "+---------+----------+-----+-----+-------+----+---------+----------+-----+-----+-------+-------+---------+\n",
      "|productid|      date|  zip|units|revenue|cogs|productid|      date|  zip|units|revenue|   cogs|diff_date|\n",
      "+---------+----------+-----+-----+-------+----+---------+----------+-----+-----+-------+-------+---------+\n",
      "|     2197|2022-07-01| 6379|    1|   NULL| 0.0|     2197|2021-09-10|64086|    1| 3269.7|3370.08|      294|\n",
      "|     2197|2022-07-01| 6379|    1|   NULL| 0.0|     2197|2020-10-30|62284|    1| 3269.7|3370.08|      609|\n",
      "|     2197|2022-07-01| 6379|    1|   NULL| 0.0|     2197|2022-05-10|99320|    1| 3269.7|3370.08|       52|\n",
      "|     2197|2022-07-01| 6379|    1|   NULL| 0.0|     2197|2020-05-19|62264|    1| 3206.7|3305.15|      773|\n",
      "|     2197|2022-07-01| 6379|    1|   NULL| 0.0|     2197|2020-03-18|98188|    1| 3206.7|3305.15|      835|\n",
      "|     1176|2022-06-20|33056|    1|   NULL| 0.0|     1176|2021-11-29|91766|    1|8000.37|7529.95|      203|\n",
      "|     1176|2022-06-20|33056|    1|   NULL| 0.0|     1176|2021-07-24|92223|    1|8000.37|7529.95|      331|\n",
      "|     2197|2022-07-01| 6379|    1|   NULL| 0.0|     2197|2017-09-29|97838|    1|2865.87|2953.85|     1736|\n",
      "|     2197|2022-07-01| 6379|    1|   NULL| 0.0|     2197|2017-02-24|15906|    1|2865.87|2953.85|     1953|\n",
      "|     2197|2022-07-01| 6379|    1|   NULL| 0.0|     2197|2017-11-16|94558|    1|2865.87|2953.85|     1688|\n",
      "|     1542|2022-06-17|92086|    1|   NULL| 0.0|     1542|2017-12-14|37398|    1|5038.74|4446.69|     1646|\n",
      "|     2197|2022-07-01| 6379|    1|   NULL| 0.0|     2197|2016-03-21|37419|    1|2771.37|2856.45|     2293|\n",
      "|     2197|2022-07-01| 6379|    1|   NULL| 0.0|     2197|2016-06-30|73538|    1|2771.37|2856.45|     2192|\n",
      "|      719|2022-06-14|29063|    1|   NULL| 0.0|      719|2020-12-12|12771|    1|1259.37| 981.55|      549|\n",
      "|      719|2022-06-14|29063|    1|   NULL| 0.0|      719|2020-12-20|75426|    1|1259.37| 981.55|      541|\n",
      "|      719|2022-06-14|29063|    1|   NULL| 0.0|      719|2020-11-28|30350|    1|1259.37| 981.55|      563|\n",
      "|     2197|2022-07-01| 6379|    1|   NULL| 0.0|     2197|2021-06-16|98908|    1| 3269.7|3370.08|      380|\n",
      "|     2197|2022-07-01| 6379|    1|   NULL| 0.0|     2197|2020-11-26|92065|    1| 3269.7|3370.08|      582|\n",
      "|     2197|2022-07-01| 6379|    1|   NULL| 0.0|     2197|2019-11-05|77356|    1| 3206.7|3305.15|      969|\n",
      "|     1176|2022-06-20|33056|    1|   NULL| 0.0|     1176|2022-03-21|91302|    1|7370.37|6936.99|       91|\n",
      "+---------+----------+-----+-----+-------+----+---------+----------+-----+-----+-------+-------+---------+\n",
      "only showing top 20 rows\n",
      "\n"
     ]
    },
    {
     "name": "stderr",
     "output_type": "stream",
     "text": [
      "                                                                                \r"
     ]
    }
   ],
   "source": [
    "#Tính độ chênh lệch ngày (diff_date)\n",
    "joined_df = joined_df.withColumn(\n",
    "    \"diff_date\",\n",
    "    abs(datediff(F.col(\"a.date\"), F.col(\"b.date\")))\n",
    ")\n",
    "\n",
    "joined_df.show()"
   ]
  },
  {
   "cell_type": "code",
   "execution_count": 14,
   "id": "6d1a63e4",
   "metadata": {},
   "outputs": [
    {
     "name": "stderr",
     "output_type": "stream",
     "text": [
      "[Stage 39:>                                                       (0 + 16) / 16]\r"
     ]
    },
    {
     "name": "stdout",
     "output_type": "stream",
     "text": [
      "+---------+----------+-----+-----+-------+----+---------+----------+-----+-----+-------+-------+---------+-------+\n",
      "|productid|      date|  zip|units|revenue|cogs|productid|      date|  zip|units|revenue|   cogs|diff_date|row_num|\n",
      "+---------+----------+-----+-----+-------+----+---------+----------+-----+-----+-------+-------+---------+-------+\n",
      "|     1176|2022-06-20|33056|    1|   NULL| 0.0|     1176|2022-06-21|73072|    1|7370.37|6936.99|        1|      1|\n",
      "|     1541|2022-06-17|92086|    1|   NULL| 0.0|     1541|2022-02-10|92562|    1|5543.37| 4659.2|      127|      1|\n",
      "|     1542|2022-06-17|92086|    1|   NULL| 0.0|     1542|2022-02-10|92562|    1|5543.37|4892.02|      127|      1|\n",
      "|     2197|2022-07-01| 6379|    1|   NULL| 0.0|     2197|2022-07-01|98841|    1| 3269.7|3370.08|        0|      1|\n",
      "|      719|2022-06-14|29063|    1|   NULL| 0.0|      719|2022-06-14|19320|    1|1259.37| 981.55|        0|      1|\n",
      "|      720|2022-06-14|29063|    1|   NULL| 0.0|      720|2022-06-14|19320|    1|1259.37| 742.78|        0|      1|\n",
      "+---------+----------+-----+-----+-------+----+---------+----------+-----+-----+-------+-------+---------+-------+\n",
      "\n"
     ]
    },
    {
     "name": "stderr",
     "output_type": "stream",
     "text": [
      "                                                                                \r"
     ]
    }
   ],
   "source": [
    "#Chọn dòng có diff_date nhỏ nhất cho mỗi dòng df_null\n",
    "window_spec = Window.partitionBy(\"a.productid\", \"a.date\").orderBy(\"diff_date\")\n",
    "\n",
    "joined_df = joined_df.withColumn(\n",
    "    \"row_num\",\n",
    "    row_number().over(window_spec)\n",
    ").filter(F.col(\"row_num\") == 1)\n",
    "\n",
    "joined_df.show()"
   ]
  },
  {
   "cell_type": "code",
   "execution_count": 17,
   "id": "f2d26e63",
   "metadata": {},
   "outputs": [
    {
     "name": "stderr",
     "output_type": "stream",
     "text": [
      "[Stage 44:>                                                         (0 + 1) / 1]\r"
     ]
    },
    {
     "name": "stdout",
     "output_type": "stream",
     "text": [
      "+---------+----------+-----+-----+-------+-------+\n",
      "|productid|      date|  zip|units|revenue|   cogs|\n",
      "+---------+----------+-----+-----+-------+-------+\n",
      "|     1176|2022-06-20|33056|    1|7370.37|6936.99|\n",
      "|     1541|2022-06-17|92086|    1|5543.37| 4659.2|\n",
      "|     1542|2022-06-17|92086|    1|5543.37|4892.02|\n",
      "|     2197|2022-07-01| 6379|    1| 3269.7|3370.08|\n",
      "|      719|2022-06-14|29063|    1|1259.37| 981.55|\n",
      "|      720|2022-06-14|29063|    1|1259.37| 742.78|\n",
      "+---------+----------+-----+-----+-------+-------+\n",
      "\n"
     ]
    },
    {
     "name": "stderr",
     "output_type": "stream",
     "text": [
      "                                                                                \r"
     ]
    }
   ],
   "source": [
    "# Lấy các cột cần thiết từ joined_df\n",
    "joined_final = joined_df.select(\n",
    "    F.col(\"a.productid\").alias(\"productid\"),\n",
    "    F.col(\"a.date\").alias(\"date\"),\n",
    "    F.col(\"a.zip\"),\n",
    "    F.col(\"a.units\"),\n",
    "    F.col(\"b.revenue\").alias(\"revenue\"),  # giá trị revenue thay thế\n",
    "    F.col(\"b.cogs\")\n",
    ")\n",
    "joined_final.show()"
   ]
  },
  {
   "cell_type": "code",
   "execution_count": 18,
   "id": "7dbb2b36",
   "metadata": {},
   "outputs": [
    {
     "name": "stdout",
     "output_type": "stream",
     "text": [
      "root\n",
      " |-- productid: string (nullable = true)\n",
      " |-- date: date (nullable = true)\n",
      " |-- zip: string (nullable = true)\n",
      " |-- units: integer (nullable = true)\n",
      " |-- revenue: double (nullable = true)\n",
      " |-- cogs: double (nullable = true)\n",
      "\n"
     ]
    }
   ],
   "source": [
    "joined_final.printSchema()"
   ]
  },
  {
   "cell_type": "code",
   "execution_count": 15,
   "id": "37d23fdf",
   "metadata": {},
   "outputs": [
    {
     "name": "stdout",
     "output_type": "stream",
     "text": [
      "root\n",
      " |-- productid: string (nullable = true)\n",
      " |-- date: date (nullable = true)\n",
      " |-- zip: string (nullable = true)\n",
      " |-- units: integer (nullable = true)\n",
      " |-- revenue: double (nullable = true)\n",
      " |-- cogs: double (nullable = true)\n",
      "\n"
     ]
    }
   ],
   "source": [
    "df_no_null.printSchema()"
   ]
  },
  {
   "cell_type": "code",
   "execution_count": 19,
   "id": "7182bf61",
   "metadata": {},
   "outputs": [
    {
     "name": "stderr",
     "output_type": "stream",
     "text": [
      "[Stage 54:>                                                       (0 + 16) / 16]\r"
     ]
    },
    {
     "name": "stdout",
     "output_type": "stream",
     "text": [
      "+-------+------------------+-----------------+-------------------+-----------------+-----------------+\n",
      "|summary|         productid|              zip|              units|          revenue|             cogs|\n",
      "+-------+------------------+-----------------+-------------------+-----------------+-----------------+\n",
      "|  count|            976164|           976164|             976164|           976164|           976164|\n",
      "|   mean|1223.3825115451912|55682.32204424666|  1.029981642428936|5837.510154679869|4825.150179621349|\n",
      "| stddev| 693.3109458317431|28954.12198581438|0.32668248558592394|4659.671349878866|4134.226111950511|\n",
      "|    min|                 1|            10001|                  1|           427.77|           214.53|\n",
      "|    max|               999|            99950|                 44|         334548.9|        312271.08|\n",
      "+-------+------------------+-----------------+-------------------+-----------------+-----------------+\n",
      "\n"
     ]
    },
    {
     "name": "stderr",
     "output_type": "stream",
     "text": [
      "                                                                                \r"
     ]
    }
   ],
   "source": [
    "df_no_null.describe().show()"
   ]
  },
  {
   "cell_type": "code",
   "execution_count": 20,
   "id": "d0386bab",
   "metadata": {},
   "outputs": [],
   "source": [
    "final_df = df_no_null.union(joined_final)"
   ]
  },
  {
   "cell_type": "code",
   "execution_count": null,
   "id": "6acf71d4",
   "metadata": {},
   "outputs": [
    {
     "name": "stderr",
     "output_type": "stream",
     "text": [
      "[Stage 68:>                                                       (0 + 17) / 17]\r"
     ]
    },
    {
     "name": "stdout",
     "output_type": "stream",
     "text": [
      "+-------+------------------+------------------+------------------+------------------+-----------------+\n",
      "|summary|         productid|               zip|             units|           revenue|             cogs|\n",
      "+-------+------------------+------------------+------------------+------------------+-----------------+\n",
      "|  count|            976170|            976170|            976170|            976170|           976170|\n",
      "|   mean|1223.3830797914297|55682.268405093375|1.0299814581476587| 5837.499112022414|4825.142631467772|\n",
      "| stddev| 693.3100417742106|28954.157018734848| 0.326681490067531|4659.6626395206895|4134.218120412356|\n",
      "|    min|                 1|             10001|                 1|            427.77|           214.53|\n",
      "|    max|               999|             99950|                44|          334548.9|        312271.08|\n",
      "+-------+------------------+------------------+------------------+------------------+-----------------+\n",
      "\n"
     ]
    },
    {
     "name": "stderr",
     "output_type": "stream",
     "text": [
      "                                                                                \r"
     ]
    },
    {
     "name": "stderr",
     "output_type": "stream",
     "text": [
      "25/06/02 00:51:58 WARN NettyRpcEnv: Ignored failure: java.util.concurrent.TimeoutException: Cannot receive any reply from archlinux:40107 in 10000 milliseconds\n"
     ]
    }
   ],
   "source": [
    "final_df.describe().show()"
   ]
  }
 ],
 "metadata": {
  "kernelspec": {
   "display_name": "Python 3",
   "language": "python",
   "name": "python3"
  },
  "language_info": {
   "codemirror_mode": {
    "name": "ipython",
    "version": 3
   },
   "file_extension": ".py",
   "mimetype": "text/x-python",
   "name": "python",
   "nbconvert_exporter": "python",
   "pygments_lexer": "ipython3",
   "version": "3.10.17"
  }
 },
 "nbformat": 4,
 "nbformat_minor": 5
}
